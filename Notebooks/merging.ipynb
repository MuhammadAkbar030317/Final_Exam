{
 "cells": [
  {
   "cell_type": "code",
   "execution_count": 64,
   "id": "22fe7091",
   "metadata": {},
   "outputs": [],
   "source": [
    "import pandas as pd \n",
    "df=pd.read_csv(\"C:/Users/User/Desktop/AI_Projects/Final/Data/Raw_data/population2000.csv\")"
   ]
  },
  {
   "cell_type": "code",
   "execution_count": 59,
   "id": "e1d86cd8",
   "metadata": {},
   "outputs": [
    {
     "name": "stdout",
     "output_type": "stream",
     "text": [
      "<class 'pandas.core.frame.DataFrame'>\n",
      "RangeIndex: 231 entries, 0 to 230\n",
      "Data columns (total 3 columns):\n",
      " #   Column      Non-Null Count  Dtype \n",
      "---  ------      --------------  ----- \n",
      " 0   Rank        231 non-null    object\n",
      " 1   Location    231 non-null    object\n",
      " 2   Population  231 non-null    object\n",
      "dtypes: object(3)\n",
      "memory usage: 5.5+ KB\n"
     ]
    }
   ],
   "source": [
    "df.info()"
   ]
  },
  {
   "cell_type": "code",
   "execution_count": 67,
   "id": "53dd572d",
   "metadata": {},
   "outputs": [
    {
     "data": {
      "text/html": [
       "<div>\n",
       "<style scoped>\n",
       "    .dataframe tbody tr th:only-of-type {\n",
       "        vertical-align: middle;\n",
       "    }\n",
       "\n",
       "    .dataframe tbody tr th {\n",
       "        vertical-align: top;\n",
       "    }\n",
       "\n",
       "    .dataframe thead th {\n",
       "        text-align: right;\n",
       "    }\n",
       "</style>\n",
       "<table border=\"1\" class=\"dataframe\">\n",
       "  <thead>\n",
       "    <tr style=\"text-align: right;\">\n",
       "      <th></th>\n",
       "      <th>Rank</th>\n",
       "      <th>Location</th>\n",
       "      <th>Population</th>\n",
       "      <th>Percentage of all</th>\n",
       "    </tr>\n",
       "  </thead>\n",
       "  <tbody>\n",
       "    <tr>\n",
       "      <th>221</th>\n",
       "      <td>221</td>\n",
       "      <td>Anguilla(UK)</td>\n",
       "      <td>11797.0</td>\n",
       "      <td>0.00019</td>\n",
       "    </tr>\n",
       "    <tr>\n",
       "      <th>222</th>\n",
       "      <td>222</td>\n",
       "      <td>Tuvalu</td>\n",
       "      <td>10838.0</td>\n",
       "      <td>0.00018</td>\n",
       "    </tr>\n",
       "    <tr>\n",
       "      <th>223</th>\n",
       "      <td>223</td>\n",
       "      <td>Saint Helena(UK)</td>\n",
       "      <td>7212.0</td>\n",
       "      <td>0.00012</td>\n",
       "    </tr>\n",
       "    <tr>\n",
       "      <th>224</th>\n",
       "      <td>224</td>\n",
       "      <td>Saint-Pierre and Miquelon(France)</td>\n",
       "      <td>6896.0</td>\n",
       "      <td>0.00011</td>\n",
       "    </tr>\n",
       "    <tr>\n",
       "      <th>225</th>\n",
       "      <td>225</td>\n",
       "      <td>Montserrat(UK)</td>\n",
       "      <td>6409.0</td>\n",
       "      <td>0.00011</td>\n",
       "    </tr>\n",
       "    <tr>\n",
       "      <th>226</th>\n",
       "      <td>226</td>\n",
       "      <td>Falkland Islands(UK)</td>\n",
       "      <td>2826.0</td>\n",
       "      <td>0.00005</td>\n",
       "    </tr>\n",
       "    <tr>\n",
       "      <th>227</th>\n",
       "      <td>227</td>\n",
       "      <td>Niue(Self-governing in freeassociation withNew...</td>\n",
       "      <td>2113.0</td>\n",
       "      <td>0.00003</td>\n",
       "    </tr>\n",
       "    <tr>\n",
       "      <th>228</th>\n",
       "      <td>228</td>\n",
       "      <td>Tokelau(NZ)</td>\n",
       "      <td>1458.0</td>\n",
       "      <td>0.00002</td>\n",
       "    </tr>\n",
       "    <tr>\n",
       "      <th>229</th>\n",
       "      <td>229</td>\n",
       "      <td>Vatican City</td>\n",
       "      <td>880.0</td>\n",
       "      <td>0.00001</td>\n",
       "    </tr>\n",
       "    <tr>\n",
       "      <th>230</th>\n",
       "      <td>230</td>\n",
       "      <td>Pitcairn Islands(UK)</td>\n",
       "      <td>54.0</td>\n",
       "      <td>0.00000</td>\n",
       "    </tr>\n",
       "  </tbody>\n",
       "</table>\n",
       "</div>"
      ],
      "text/plain": [
       "    Rank                                           Location  Population  \\\n",
       "221  221                                       Anguilla(UK)     11797.0   \n",
       "222  222                                             Tuvalu     10838.0   \n",
       "223  223                                   Saint Helena(UK)      7212.0   \n",
       "224  224                  Saint-Pierre and Miquelon(France)      6896.0   \n",
       "225  225                                     Montserrat(UK)      6409.0   \n",
       "226  226                               Falkland Islands(UK)      2826.0   \n",
       "227  227  Niue(Self-governing in freeassociation withNew...      2113.0   \n",
       "228  228                                        Tokelau(NZ)      1458.0   \n",
       "229  229                                       Vatican City       880.0   \n",
       "230  230                               Pitcairn Islands(UK)        54.0   \n",
       "\n",
       "     Percentage of all  \n",
       "221            0.00019  \n",
       "222            0.00018  \n",
       "223            0.00012  \n",
       "224            0.00011  \n",
       "225            0.00011  \n",
       "226            0.00005  \n",
       "227            0.00003  \n",
       "228            0.00002  \n",
       "229            0.00001  \n",
       "230            0.00000  "
      ]
     },
     "execution_count": 67,
     "metadata": {},
     "output_type": "execute_result"
    }
   ],
   "source": [
    "df.tail(10)"
   ]
  },
  {
   "cell_type": "code",
   "execution_count": 65,
   "id": "0bac972f",
   "metadata": {},
   "outputs": [],
   "source": [
    "import pandas as pd\n",
    "import re\n",
    "\n",
    "\n",
    "# 🔹 Population ustunini tozalash\n",
    "def clean_population(val):\n",
    "    val = str(val)\n",
    "    val = re.sub(r\"\\[.*?\\]\", \"\", val)       # [3] yoki (2) kabi izohlarni olib tashlaydi\n",
    "    val = re.sub(r\"[^\\d]\", \"\", val)         # faqat raqamlarni qoldiradi\n",
    "    return float(val) if val else None\n",
    "\n",
    "df[\"Population\"] = df[\"Population\"].apply(clean_population)\n",
    "\n",
    "world_pop = 6_080_671_215\n",
    "\n",
    "df[\"Percentage of all\"] = ((df[\"Population\"] / world_pop) * 100).round(5)\n",
    "\n",
    "\n"
   ]
  },
  {
   "cell_type": "code",
   "execution_count": 68,
   "id": "8023ba8f",
   "metadata": {},
   "outputs": [],
   "source": [
    "df1=pd.read_csv(\"C:/Users/User/Desktop/AI_Projects/Final/Data/Raw_data/population2005.csv\")"
   ]
  },
  {
   "cell_type": "code",
   "execution_count": 53,
   "id": "4de603dc",
   "metadata": {},
   "outputs": [
    {
     "name": "stdout",
     "output_type": "stream",
     "text": [
      "<class 'pandas.core.frame.DataFrame'>\n",
      "RangeIndex: 232 entries, 0 to 231\n",
      "Data columns (total 4 columns):\n",
      " #   Column      Non-Null Count  Dtype  \n",
      "---  ------      --------------  -----  \n",
      " 0   Rank        232 non-null    object \n",
      " 1   Location    232 non-null    object \n",
      " 2   Population  232 non-null    object \n",
      " 3   Changes     19 non-null     float64\n",
      "dtypes: float64(1), object(3)\n",
      "memory usage: 7.4+ KB\n"
     ]
    }
   ],
   "source": [
    "df1.info()"
   ]
  },
  {
   "cell_type": "code",
   "execution_count": 69,
   "id": "29a4449a",
   "metadata": {},
   "outputs": [
    {
     "data": {
      "text/html": [
       "<div>\n",
       "<style scoped>\n",
       "    .dataframe tbody tr th:only-of-type {\n",
       "        vertical-align: middle;\n",
       "    }\n",
       "\n",
       "    .dataframe tbody tr th {\n",
       "        vertical-align: top;\n",
       "    }\n",
       "\n",
       "    .dataframe thead th {\n",
       "        text-align: right;\n",
       "    }\n",
       "</style>\n",
       "<table border=\"1\" class=\"dataframe\">\n",
       "  <thead>\n",
       "    <tr style=\"text-align: right;\">\n",
       "      <th></th>\n",
       "      <th>Rank</th>\n",
       "      <th>Location</th>\n",
       "      <th>Population</th>\n",
       "      <th>Changes</th>\n",
       "    </tr>\n",
       "  </thead>\n",
       "  <tbody>\n",
       "    <tr>\n",
       "      <th>0</th>\n",
       "      <td>—</td>\n",
       "      <td>World</td>\n",
       "      <td>6,464,750,000</td>\n",
       "      <td>NaN</td>\n",
       "    </tr>\n",
       "    <tr>\n",
       "      <th>1</th>\n",
       "      <td>1</td>\n",
       "      <td>China</td>\n",
       "      <td>1,307,593,000</td>\n",
       "      <td>NaN</td>\n",
       "    </tr>\n",
       "    <tr>\n",
       "      <th>2</th>\n",
       "      <td>2</td>\n",
       "      <td>India[2]</td>\n",
       "      <td>1,103,371,000</td>\n",
       "      <td>NaN</td>\n",
       "    </tr>\n",
       "    <tr>\n",
       "      <th>3</th>\n",
       "      <td>3</td>\n",
       "      <td>United States[3]</td>\n",
       "      <td>295,520,000</td>\n",
       "      <td>NaN</td>\n",
       "    </tr>\n",
       "    <tr>\n",
       "      <th>4</th>\n",
       "      <td>4</td>\n",
       "      <td>Indonesia</td>\n",
       "      <td>222,781,000</td>\n",
       "      <td>NaN</td>\n",
       "    </tr>\n",
       "    <tr>\n",
       "      <th>5</th>\n",
       "      <td>5</td>\n",
       "      <td>Brazil</td>\n",
       "      <td>186,405,000</td>\n",
       "      <td>NaN</td>\n",
       "    </tr>\n",
       "    <tr>\n",
       "      <th>6</th>\n",
       "      <td>6</td>\n",
       "      <td>Pakistan</td>\n",
       "      <td>157,935,000</td>\n",
       "      <td>1.0</td>\n",
       "    </tr>\n",
       "    <tr>\n",
       "      <th>7</th>\n",
       "      <td>7</td>\n",
       "      <td>Russia</td>\n",
       "      <td>143,202,000</td>\n",
       "      <td>1.0</td>\n",
       "    </tr>\n",
       "    <tr>\n",
       "      <th>8</th>\n",
       "      <td>8</td>\n",
       "      <td>Bangladesh</td>\n",
       "      <td>141,822,000</td>\n",
       "      <td>NaN</td>\n",
       "    </tr>\n",
       "    <tr>\n",
       "      <th>9</th>\n",
       "      <td>9</td>\n",
       "      <td>Nigeria</td>\n",
       "      <td>131,530,000</td>\n",
       "      <td>1.0</td>\n",
       "    </tr>\n",
       "  </tbody>\n",
       "</table>\n",
       "</div>"
      ],
      "text/plain": [
       "  Rank          Location     Population  Changes\n",
       "0    —             World  6,464,750,000      NaN\n",
       "1    1             China  1,307,593,000      NaN\n",
       "2    2          India[2]  1,103,371,000      NaN\n",
       "3    3  United States[3]    295,520,000      NaN\n",
       "4    4         Indonesia    222,781,000      NaN\n",
       "5    5            Brazil    186,405,000      NaN\n",
       "6    6          Pakistan    157,935,000      1.0\n",
       "7    7            Russia    143,202,000      1.0\n",
       "8    8        Bangladesh    141,822,000      NaN\n",
       "9    9           Nigeria    131,530,000      1.0"
      ]
     },
     "execution_count": 69,
     "metadata": {},
     "output_type": "execute_result"
    }
   ],
   "source": [
    "df1.head(10)"
   ]
  },
  {
   "cell_type": "code",
   "execution_count": 70,
   "id": "fa86f596",
   "metadata": {},
   "outputs": [],
   "source": [
    "df2=pd.read_csv(\"C:/Users/User/Desktop/AI_Projects/Final/Data/Raw_data/population2010.csv\")"
   ]
  },
  {
   "cell_type": "code",
   "execution_count": 71,
   "id": "0b285746",
   "metadata": {},
   "outputs": [
    {
     "name": "stdout",
     "output_type": "stream",
     "text": [
      "<class 'pandas.core.frame.DataFrame'>\n",
      "RangeIndex: 199 entries, 0 to 198\n",
      "Data columns (total 6 columns):\n",
      " #   Column              Non-Null Count  Dtype  \n",
      "---  ------              --------------  -----  \n",
      " 0   Rank                199 non-null    object \n",
      " 1   Location            199 non-null    object \n",
      " 2   Population          199 non-null    object \n",
      " 3   Changes             98 non-null     float64\n",
      " 4   Area                156 non-null    object \n",
      " 5   Population density  198 non-null    float64\n",
      "dtypes: float64(2), object(4)\n",
      "memory usage: 9.5+ KB\n"
     ]
    }
   ],
   "source": [
    "df2.info()"
   ]
  },
  {
   "cell_type": "code",
   "execution_count": 73,
   "id": "606e8bdb",
   "metadata": {},
   "outputs": [],
   "source": [
    "df3=pd.read_csv(\"C:/Users/User/Desktop/AI_Projects/Final/Data/Raw_data/population2015.csv\")"
   ]
  },
  {
   "cell_type": "code",
   "execution_count": 74,
   "id": "b937721f",
   "metadata": {},
   "outputs": [
    {
     "name": "stdout",
     "output_type": "stream",
     "text": [
      "<class 'pandas.core.frame.DataFrame'>\n",
      "RangeIndex: 199 entries, 0 to 198\n",
      "Data columns (total 6 columns):\n",
      " #   Column              Non-Null Count  Dtype  \n",
      "---  ------              --------------  -----  \n",
      " 0   Rank                199 non-null    object \n",
      " 1   Location            199 non-null    object \n",
      " 2   Population          199 non-null    object \n",
      " 3   Changes             96 non-null     float64\n",
      " 4   Area                156 non-null    object \n",
      " 5   Population density  198 non-null    float64\n",
      "dtypes: float64(2), object(4)\n",
      "memory usage: 9.5+ KB\n"
     ]
    }
   ],
   "source": [
    "df3.info()"
   ]
  },
  {
   "cell_type": "code",
   "execution_count": 79,
   "id": "825bf00c",
   "metadata": {},
   "outputs": [],
   "source": [
    "df4=pd.read_csv(\"C:/Users/User/Desktop/AI_Projects/Final/Data/Raw_data/population2020_25.csv\")"
   ]
  },
  {
   "cell_type": "code",
   "execution_count": 82,
   "id": "77699a75",
   "metadata": {},
   "outputs": [
    {
     "name": "stdout",
     "output_type": "stream",
     "text": [
      "<class 'pandas.core.frame.DataFrame'>\n",
      "RangeIndex: 242 entries, 0 to 241\n",
      "Data columns (total 5 columns):\n",
      " #   Column      Non-Null Count  Dtype \n",
      "---  ------      --------------  ----- \n",
      " 0   Location    242 non-null    object\n",
      " 1   Population  242 non-null    object\n",
      " 2   Foizi       242 non-null    object\n",
      " 3   Date        242 non-null    object\n",
      " 4   Source      242 non-null    object\n",
      "dtypes: object(5)\n",
      "memory usage: 9.6+ KB\n"
     ]
    }
   ],
   "source": [
    "df4.info()"
   ]
  },
  {
   "cell_type": "code",
   "execution_count": 81,
   "id": "e1b41959",
   "metadata": {},
   "outputs": [],
   "source": [
    "df4=df4.drop(\"Notes\",axis=1)"
   ]
  },
  {
   "cell_type": "code",
   "execution_count": 86,
   "id": "004c272d",
   "metadata": {},
   "outputs": [
    {
     "data": {
      "text/plain": [
       "1103"
      ]
     },
     "execution_count": 86,
     "metadata": {},
     "output_type": "execute_result"
    }
   ],
   "source": [
    "242+199+199+231+232"
   ]
  },
  {
   "cell_type": "code",
   "execution_count": 87,
   "id": "e952efd9",
   "metadata": {},
   "outputs": [
    {
     "data": {
      "text/plain": [
       "1103"
      ]
     },
     "execution_count": 87,
     "metadata": {},
     "output_type": "execute_result"
    }
   ],
   "source": [
    "(len(df)+len(df1)+len(df2)+len(df3)+len(df4))"
   ]
  },
  {
   "cell_type": "code",
   "execution_count": null,
   "id": "7b4ab8d4",
   "metadata": {},
   "outputs": [],
   "source": []
  }
 ],
 "metadata": {
  "kernelspec": {
   "display_name": "base",
   "language": "python",
   "name": "python3"
  },
  "language_info": {
   "codemirror_mode": {
    "name": "ipython",
    "version": 3
   },
   "file_extension": ".py",
   "mimetype": "text/x-python",
   "name": "python",
   "nbconvert_exporter": "python",
   "pygments_lexer": "ipython3",
   "version": "3.12.7"
  }
 },
 "nbformat": 4,
 "nbformat_minor": 5
}
