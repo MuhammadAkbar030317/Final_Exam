{
 "cells": [
  {
   "cell_type": "markdown",
   "id": "e1418373",
   "metadata": {},
   "source": [
    "## World population 2020/25 data collection"
   ]
  },
  {
   "cell_type": "code",
   "execution_count": 54,
   "id": "9f957c6d",
   "metadata": {},
   "outputs": [
    {
     "name": "stdout",
     "output_type": "stream",
     "text": [
      "C:/Users/User/Desktop/AI_Projects/Final/Data/Raw_data\\population2020_25.csv\n"
     ]
    }
   ],
   "source": [
    "import pandas as pd\n",
    "import os\n",
    "import requests\n",
    "from bs4 import BeautifulSoup\n",
    "os.makedirs(\"C:/Users/User/Desktop/AI_Projects/Final/Data/Raw_data\",exist_ok=True)\n",
    "\n",
    "url=\"https://en.wikipedia.org/wiki/List_of_countries_and_dependencies_by_population\"\n",
    "\n",
    "\n",
    "headers={\n",
    "    \"User-Agent\": \"Mozilla/5.0\"\n",
    "}\n",
    "\n",
    "response=requests.get(url=url,headers=headers)\n",
    "soup=BeautifulSoup(response.text,\"html.parser\")\n",
    "\n",
    "table=soup.find(\"table\", {\"class\": \"wikitable\"})\n",
    "\n",
    "headers=[th.get_text(strip=True) for th in table.find_all(\"th\")]\n",
    "\n",
    "rows=[]\n",
    "for row in table.find(\"tbody\").find_all(\"tr\"):\n",
    "    cols=[td.get_text(strip=True) for td in row.find_all(\"td\")]\n",
    "    if cols:\n",
    "        rows.append(cols)\n",
    "\n",
    "\n",
    "df=pd.DataFrame(rows, columns=headers[:len(rows[0])])\n",
    "ustun_nomlar = [\"Location\", \"Population\", \"Foizi\", \"Date\", \"Source\",\"Notes\"]\n",
    "df.columns = ustun_nomlar\n",
    "\n",
    "file_path=os.path.join(\"C:/Users/User/Desktop/AI_Projects/Final/Data/Raw_data\",\"population2020_25.csv\")\n",
    "print(file_path)\n",
    "df.to_csv(file_path,index=False, encoding=\"utf-8-sig\")"
   ]
  },
  {
   "cell_type": "markdown",
   "id": "3215fde8",
   "metadata": {},
   "source": [
    "## World populatin 2015 data collection"
   ]
  },
  {
   "cell_type": "code",
   "execution_count": 43,
   "id": "c1b0fde3",
   "metadata": {},
   "outputs": [],
   "source": [
    "import pandas as pd\n",
    "import os\n",
    "import requests\n",
    "from bs4 import BeautifulSoup\n",
    "os.makedirs(\"C:/Users/User/Desktop/AI_Projects/Final/Data/Raw_data\",exist_ok=True)\n",
    "url=\"https://en.wikipedia.org/wiki/List_of_countries_by_population_in_2015\"\n",
    "\n",
    "headers={\n",
    "    \"User-Agent\": \"Mozilla/5.0\"\n",
    "}\n",
    "\n",
    "response=requests.get(url=url,headers=headers)\n",
    "soup=BeautifulSoup(response.text,\"html.parser\")\n",
    "\n",
    "tables = soup.find_all(\"table\", {\"class\": \"wikitable\"})\n",
    "table = tables[1]\n",
    "\n",
    "headers=[th.get_text(strip=True) for th in table.find_all(\"th\")]\n",
    "\n",
    "rows=[]\n",
    "for row in table.find(\"tbody\").find_all(\"tr\"):\n",
    "    cols=[td.get_text(strip=True) for td in row.find_all(\"td\")]\n",
    "    if cols:\n",
    "        rows.append(cols)\n",
    "\n",
    "\n",
    "df=pd.DataFrame(rows)\n",
    "ustun_nomlar = [\"Rank\",\"Location\", \"Population\", \"Changes\", \"Area\", \"Population density\"]\n",
    "df.columns = ustun_nomlar\n",
    "\n",
    "\n",
    "file_path=os.path.join(\"C:/Users/User/Desktop/AI_Projects/Final/Data/Raw_data\",\"population2015.csv\")\n",
    "df.to_csv(file_path,index=False, encoding=\"utf-8-sig\")\n",
    "\n"
   ]
  },
  {
   "cell_type": "markdown",
   "id": "ca2b4a96",
   "metadata": {},
   "source": [
    "## World population 2010 data collection"
   ]
  },
  {
   "cell_type": "code",
   "execution_count": 44,
   "id": "297613bf",
   "metadata": {},
   "outputs": [],
   "source": [
    "import pandas as pd\n",
    "import os\n",
    "import requests\n",
    "from bs4 import BeautifulSoup\n",
    "os.makedirs(\"C:/Users/User/Desktop/AI_Projects/Final/Data/Raw_data\",exist_ok=True)\n",
    "url=\"https://en.wikipedia.org/wiki/List_of_countries_by_population_in_2010\"\n",
    "\n",
    "headers={\n",
    "    \"User-Agent\": \"Mozilla/5.0\"\n",
    "}\n",
    "\n",
    "response=requests.get(url=url,headers=headers)\n",
    "soup=BeautifulSoup(response.text,\"html.parser\")\n",
    "\n",
    "tables = soup.find_all(\"table\", {\"class\": \"wikitable\"})\n",
    "table = tables[1]\n",
    "\n",
    "headers=[th.get_text(strip=True) for th in table.find_all(\"th\")]\n",
    "\n",
    "rows=[]\n",
    "for row in table.find(\"tbody\").find_all(\"tr\"):\n",
    "    cols=[td.get_text(strip=True) for td in row.find_all(\"td\")]\n",
    "    if cols:\n",
    "        rows.append(cols)\n",
    "\n",
    "\n",
    "df=pd.DataFrame(rows)\n",
    "ustun_nomlar = [\"Rank\",\"Location\", \"Population\", \"Changes\", \"Area\", \"Population density\"]\n",
    "df.columns = ustun_nomlar\n",
    "\n",
    "\n",
    "file_path=os.path.join(\"C:/Users/User/Desktop/AI_Projects/Final/Data/Raw_data\",\"population2010.csv\")\n",
    "df.to_csv(file_path,index=False, encoding=\"utf-8-sig\")\n",
    "\n"
   ]
  },
  {
   "cell_type": "markdown",
   "id": "959645a7",
   "metadata": {},
   "source": [
    "## World population 2005 data collection"
   ]
  },
  {
   "cell_type": "code",
   "execution_count": null,
   "id": "255cbf1c",
   "metadata": {},
   "outputs": [],
   "source": [
    "import pandas as pd\n",
    "import os\n",
    "import requests\n",
    "from bs4 import BeautifulSoup\n",
    "os.makedirs(\"C:/Users/User/Desktop/AI_Projects/Final/Data/Raw_data\",exist_ok=True)\n",
    "url=\"https://en.wikipedia.org/wiki/List_of_countries_by_population_in_2005\"\n",
    "\n",
    "headers={\n",
    "    \"User-Agent\": \"Mozilla/5.0\"\n",
    "}\n",
    "\n",
    "response=requests.get(url=url,headers=headers)\n",
    "soup=BeautifulSoup(response.text,\"html.parser\")\n",
    "\n",
    "tables = soup.find_all(\"table\", {\"class\": \"wikitable\"})\n",
    "table = tables[1]\n",
    "\n",
    "headers=[th.get_text(strip=True) for th in table.find_all(\"th\")]\n",
    "\n",
    "rows=[]\n",
    "for row in table.find(\"tbody\").find_all(\"tr\"):\n",
    "    cols=[td.get_text(strip=True) for td in row.find_all(\"td\")]\n",
    "    if cols:\n",
    "        rows.append(cols)\n",
    "\n",
    "\n",
    "df=pd.DataFrame(rows)\n",
    "ustun_nomlar = [\"Rank\",\"Location\", \"Population\", \"Changes\"]\n",
    "df.columns = ustun_nomlar\n",
    "\n",
    "\n",
    "file_path=os.path.join(\"C:/Users/User/Desktop/AI_Projects/Final/Data/Raw_data\",\"population2005.csv\")\n",
    "df.to_csv(file_path,index=False, encoding=\"utf-8-sig\")\n",
    "\n"
   ]
  },
  {
   "cell_type": "markdown",
   "id": "91abd12d",
   "metadata": {},
   "source": [
    "## World population 2000 data collection"
   ]
  },
  {
   "cell_type": "code",
   "execution_count": 46,
   "id": "39c805e9",
   "metadata": {},
   "outputs": [],
   "source": [
    "import pandas as pd\n",
    "import os\n",
    "import requests\n",
    "from bs4 import BeautifulSoup\n",
    "os.makedirs(\"C:/Users/User/Desktop/AI_Projects/Final/Data/Raw_data\",exist_ok=True)\n",
    "url=\"https://en.wikipedia.org/wiki/List_of_countries_by_population_in_2000\"\n",
    "\n",
    "headers={\n",
    "    \"User-Agent\": \"Mozilla/5.0\"\n",
    "}\n",
    "\n",
    "response=requests.get(url=url,headers=headers)\n",
    "soup=BeautifulSoup(response.text,\"html.parser\")\n",
    "\n",
    "tables = soup.find_all(\"table\", {\"class\": \"wikitable\"})\n",
    "table = tables[1]\n",
    "\n",
    "headers=[th.get_text(strip=True) for th in table.find_all(\"th\")]\n",
    "\n",
    "rows=[]\n",
    "for row in table.find(\"tbody\").find_all(\"tr\"):\n",
    "    cols=[td.get_text(strip=True) for td in row.find_all(\"td\")]\n",
    "    if cols:\n",
    "        rows.append(cols)\n",
    "\n",
    "\n",
    "df=pd.DataFrame(rows)\n",
    "ustun_nomlar = [\"Rank\",\"Location\", \"Population\"]\n",
    "df.columns = ustun_nomlar\n",
    "\n",
    "\n",
    "file_path=os.path.join(\"C:/Users/User/Desktop/AI_Projects/Final/Data/Raw_data\",\"population2000.csv\")\n",
    "df.to_csv(file_path,index=False, encoding=\"utf-8-sig\")\n",
    "\n"
   ]
  }
 ],
 "metadata": {
  "kernelspec": {
   "display_name": "base",
   "language": "python",
   "name": "python3"
  },
  "language_info": {
   "codemirror_mode": {
    "name": "ipython",
    "version": 3
   },
   "file_extension": ".py",
   "mimetype": "text/x-python",
   "name": "python",
   "nbconvert_exporter": "python",
   "pygments_lexer": "ipython3",
   "version": "3.12.7"
  }
 },
 "nbformat": 4,
 "nbformat_minor": 5
}
